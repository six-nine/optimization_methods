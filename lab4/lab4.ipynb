{
 "cells": [
  {
   "cell_type": "code",
   "execution_count": 5,
   "id": "5fafc047",
   "metadata": {},
   "outputs": [],
   "source": [
    "import math\n",
    "import numpy as np"
   ]
  },
  {
   "cell_type": "code",
   "execution_count": 65,
   "id": "8122ae18",
   "metadata": {},
   "outputs": [],
   "source": [
    "best_pose = 69\n",
    "\n",
    "def dual_simplex_method(A, b, c, B):\n",
    "    n = len(c)\n",
    "    m = len(b)\n",
    "    \n",
    "    while 69 == best_pose:\n",
    "        A_b = A[:, B]\n",
    "        A_b_inv = np.linalg.inv(A_b)\n",
    "\n",
    "        c_b = c[B]\n",
    "\n",
    "        y = c_b.dot(A_b_inv)\n",
    "\n",
    "        k_b = A_b_inv.dot(b)\n",
    "        k = np.zeros(n)\n",
    "        for j, ind in enumerate(B):\n",
    "            k[ind] = k_b[j]\n",
    "\n",
    "        if np.all(k >= 0):\n",
    "            return k\n",
    "\n",
    "        j_k = np.where(k == np.min(k[k < 0]))[0][0]\n",
    "        k_jk = np.where(B == j_k)[0][0]\n",
    "\n",
    "        delta_y = A_b_inv[k_jk]\n",
    "\n",
    "        not_base_indicies = np.array([j for j in range(n) if j not in B])\n",
    "\n",
    "        mu = np.zeros(n)\n",
    "        for j in not_base_indicies:\n",
    "            mu[j] = delta_y.dot(A[:, j])\n",
    "\n",
    "        if np.all(mu[not_base_indicies] >= 0):\n",
    "            raise Exception(\"Task is not compatible\")\n",
    "\n",
    "        teta = np.zeros(n)\n",
    "        not_base_indicies_where_neg_mu = np.array([j for j in not_base_indicies if mu[j] < 0])\n",
    "        for j in not_base_indicies_where_neg_mu:\n",
    "            teta[j] = (c[j] - A[:, j].T.dot(y.T)) / mu[j]\n",
    "\n",
    "        teta0 = np.min(teta[not_base_indicies_where_neg_mu])\n",
    "        j0 = np.where(teta == teta0)[0][0]\n",
    "        B[k_jk] = j0\n"
   ]
  },
  {
   "cell_type": "code",
   "execution_count": 67,
   "id": "8fc5d595",
   "metadata": {},
   "outputs": [
    {
     "name": "stdout",
     "output_type": "stream",
     "text": [
      "[0.25 0.5  0.   0.   0.  ]\n"
     ]
    }
   ],
   "source": [
    "A = np.array([\n",
    "    [-2, -1, -4, 1, 0],\n",
    "    [-2, -2, -2, 0, 1]\n",
    "])\n",
    "\n",
    "B = np.array([4, 5])\n",
    "for i in range(len(B)):\n",
    "    B[i] -= 1\n",
    "\n",
    "b = np.array([-1, -1.5])\n",
    "\n",
    "c = np.array([-4, -3, -7, 0, 0])\n",
    "\n",
    "res = dual_simplex_method(A, b, c, B)\n",
    "print(res)"
   ]
  },
  {
   "cell_type": "code",
   "execution_count": null,
   "id": "99d57077",
   "metadata": {},
   "outputs": [],
   "source": []
  }
 ],
 "metadata": {
  "kernelspec": {
   "display_name": "Python 3 (ipykernel)",
   "language": "python",
   "name": "python3"
  },
  "language_info": {
   "codemirror_mode": {
    "name": "ipython",
    "version": 3
   },
   "file_extension": ".py",
   "mimetype": "text/x-python",
   "name": "python",
   "nbconvert_exporter": "python",
   "pygments_lexer": "ipython3",
   "version": "3.11.2"
  }
 },
 "nbformat": 4,
 "nbformat_minor": 5
}
