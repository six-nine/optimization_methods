{
 "cells": [
  {
   "cell_type": "code",
   "execution_count": 2,
   "id": "43505934",
   "metadata": {},
   "outputs": [],
   "source": [
    "import numpy as np"
   ]
  },
  {
   "cell_type": "code",
   "execution_count": 51,
   "id": "2caa4422",
   "metadata": {},
   "outputs": [],
   "source": [
    "def find_inv(inv_matrix: list[list[float]], x: list[float], col: int):\n",
    "    n = len(inv_matrix)\n",
    "    l = [0] * n\n",
    "    for i in range(n):\n",
    "        s = 0\n",
    "        for j in range(n):\n",
    "            s += inv_matrix[i][j] * x[i]\n",
    "        l[i] = s\n",
    "\n",
    "    if l[col] == 0:\n",
    "        raise Exception(\"Matrix is not inversable\")\n",
    "\n",
    "    l_col = l[col]\n",
    "    l[col] = -1\n",
    "\n",
    "    l = list(map(lambda x: -1 / l_col * x, l))\n",
    "\n",
    "    q = []\n",
    "    for i in range(n):\n",
    "        q.append([0] * n)\n",
    "\n",
    "    for i in range(n):\n",
    "        q[i][i] = 1\n",
    "        q[i][col] = l[i]\n",
    "\n",
    "    ans = []\n",
    "    for i in range(n):\n",
    "        ans.append([0] * n)\n",
    "\n",
    "    for i in range(n):\n",
    "        for j in range(n):\n",
    "            t1 = q[i][i] * inv_matrix[i][j]\n",
    "            t2 = q[i][col] * inv_matrix[col][j]\n",
    "            if i == col:\n",
    "                t2 = 0\n",
    "            ans[i][j] = t1 + t2\n",
    "\n",
    "    return ans"
   ]
  },
  {
   "cell_type": "code",
   "execution_count": 52,
   "id": "0b1aeb3c",
   "metadata": {},
   "outputs": [],
   "source": [
    "def simplex_method_phase_2(A: list[list[float]], c: list[float], x0: list[float], base_indicies: list[float]):\n",
    "    A_b = [[row[j] for j in base_indicies] for row in A]\n",
    "    A_b = np.array(A_b)\n",
    "    \n",
    "    A_b_inv = np.linalg.inv(A_b)\n",
    "    c_b = np.array([c[i] for i in base_indicies])\n",
    "    \n",
    "    num_of_base = len(base_indicies)\n",
    "    \n",
    "    while (True):\n",
    "        u = c_b.dot(A_b_inv)\n",
    "        delta = u.dot(np.array(A)) - np.array(c)\n",
    "        j0 = -1\n",
    "        for i in range(len(delta)):\n",
    "            if delta[i] < 0:\n",
    "                j0 = i\n",
    "                break\n",
    "\n",
    "        if j0 == -1:\n",
    "            return x0\n",
    "\n",
    "        A_j0 = np.array([row[j0] for row in A])\n",
    "\n",
    "        z = A_b_inv.dot(A_j0)\n",
    "\n",
    "        teta_min = np.inf\n",
    "        teta_min_ind = -1\n",
    "        for i in range(num_of_base):\n",
    "            teta = x0[base_indicies[i]] / z[i] if z[i] > 0 else np.inf\n",
    "            if teta < teta_min:\n",
    "                teta_min = teta\n",
    "                teta_min_ind = i\n",
    "\n",
    "        if teta_min_ind == -1:\n",
    "            return np.inf\n",
    "        \n",
    "        new_base_ind = j0\n",
    "        old_base_ind = base_indicies[teta_min_ind]\n",
    "        base_indicies[teta_min_ind] = new_base_ind\n",
    "\n",
    "        x0[new_base_ind] = teta_min\n",
    "        x0[old_base_ind] = 0\n",
    "\n",
    "        for i in range(num_of_base):\n",
    "            if base_indicies[i] != new_base_ind:\n",
    "                x[base_indicies[i]] -= teta_min * z[i]\n",
    "                \n",
    "        new_column = [row[new_base_ind] for row in A]\n",
    "        A_b_inv = np.array(find_inv(A_b_inv, new_column, teta_min_ind))\n",
    "        c_b[teta_min_ind] = c[new_base_ind]\n",
    "    \n",
    "    "
   ]
  },
  {
   "cell_type": "code",
   "execution_count": null,
   "id": "52130617",
   "metadata": {},
   "outputs": [],
   "source": []
  },
  {
   "cell_type": "code",
   "execution_count": 53,
   "id": "3066dde9",
   "metadata": {},
   "outputs": [
    {
     "name": "stdout",
     "output_type": "stream",
     "text": [
      "[3.0, 2.0, 2.0, 0, 0]\n"
     ]
    }
   ],
   "source": [
    "c = [1, 1, 0, 0, 0]\n",
    "A = [[-1, 1, 1, 0, 0],\n",
    "     [ 1, 0, 0, 1, 0],\n",
    "     [ 0, 1, 0, 0, 1]]\n",
    "\n",
    "b = [1, 3, 2]\n",
    "x = [0, 0, 1, 3, 2]\n",
    "base = [2, 3, 4]\n",
    "\n",
    "res = simplex_method_phase_2(A, c, x, base)\n",
    "\n",
    "print(res)"
   ]
  }
 ],
 "metadata": {
  "kernelspec": {
   "display_name": "Python 3 (ipykernel)",
   "language": "python",
   "name": "python3"
  },
  "language_info": {
   "codemirror_mode": {
    "name": "ipython",
    "version": 3
   },
   "file_extension": ".py",
   "mimetype": "text/x-python",
   "name": "python",
   "nbconvert_exporter": "python",
   "pygments_lexer": "ipython3",
   "version": "3.11.2"
  }
 },
 "nbformat": 4,
 "nbformat_minor": 5
}
